{
 "cells": [
  {
   "attachments": {},
   "cell_type": "markdown",
   "metadata": {},
   "source": [
    "# **Optimizing the Flow of Materials through a Production Process using Data Analysis and Python Implementation**"
   ]
  },
  {
   "attachments": {},
   "cell_type": "markdown",
   "metadata": {},
   "source": [
    "## Import the necessary libraries"
   ]
  },
  {
   "cell_type": "code",
   "execution_count": 1,
   "metadata": {},
   "outputs": [],
   "source": [
    "import pandas as pd"
   ]
  },
  {
   "attachments": {},
   "cell_type": "markdown",
   "metadata": {},
   "source": [
    "## Load the production data"
   ]
  },
  {
   "cell_type": "code",
   "execution_count": 2,
   "metadata": {},
   "outputs": [
    {
     "data": {
      "text/html": [
       "<div>\n",
       "<style scoped>\n",
       "    .dataframe tbody tr th:only-of-type {\n",
       "        vertical-align: middle;\n",
       "    }\n",
       "\n",
       "    .dataframe tbody tr th {\n",
       "        vertical-align: top;\n",
       "    }\n",
       "\n",
       "    .dataframe thead th {\n",
       "        text-align: right;\n",
       "    }\n",
       "</style>\n",
       "<table border=\"1\" class=\"dataframe\">\n",
       "  <thead>\n",
       "    <tr style=\"text-align: right;\">\n",
       "      <th></th>\n",
       "      <th>machine_id</th>\n",
       "      <th>machine_type</th>\n",
       "      <th>production_time</th>\n",
       "      <th>product_type</th>\n",
       "      <th>production_volume</th>\n",
       "      <th>production_date</th>\n",
       "      <th>production_shift</th>\n",
       "      <th>machine_maintenance</th>\n",
       "      <th>raw_material_usage</th>\n",
       "      <th>quality_control</th>\n",
       "    </tr>\n",
       "  </thead>\n",
       "  <tbody>\n",
       "    <tr>\n",
       "      <th>0</th>\n",
       "      <td>1</td>\n",
       "      <td>extruding machine A</td>\n",
       "      <td>120</td>\n",
       "      <td>textile grade</td>\n",
       "      <td>500 kg</td>\n",
       "      <td>2021-01-01</td>\n",
       "      <td>day shift</td>\n",
       "      <td>2021-01-01</td>\n",
       "      <td>chemicals A and B</td>\n",
       "      <td>yes</td>\n",
       "    </tr>\n",
       "    <tr>\n",
       "      <th>1</th>\n",
       "      <td>2</td>\n",
       "      <td>extruding machine B</td>\n",
       "      <td>100</td>\n",
       "      <td>textile grade</td>\n",
       "      <td>450 kg</td>\n",
       "      <td>2021-01-02</td>\n",
       "      <td>day shift</td>\n",
       "      <td>2021-01-02</td>\n",
       "      <td>chemicals A and C</td>\n",
       "      <td>yes</td>\n",
       "    </tr>\n",
       "    <tr>\n",
       "      <th>2</th>\n",
       "      <td>3</td>\n",
       "      <td>extruding machine C</td>\n",
       "      <td>110</td>\n",
       "      <td>industrial grade</td>\n",
       "      <td>400 kg</td>\n",
       "      <td>2021-01-03</td>\n",
       "      <td>day shift</td>\n",
       "      <td>2021-01-03</td>\n",
       "      <td>chemicals B and C</td>\n",
       "      <td>yes</td>\n",
       "    </tr>\n",
       "    <tr>\n",
       "      <th>3</th>\n",
       "      <td>4</td>\n",
       "      <td>extruding machine D</td>\n",
       "      <td>90</td>\n",
       "      <td>textile grade</td>\n",
       "      <td>350 kg</td>\n",
       "      <td>2021-01-04</td>\n",
       "      <td>day shift</td>\n",
       "      <td>2021-01-04</td>\n",
       "      <td>chemicals A and B</td>\n",
       "      <td>no</td>\n",
       "    </tr>\n",
       "    <tr>\n",
       "      <th>4</th>\n",
       "      <td>5</td>\n",
       "      <td>printing machine A</td>\n",
       "      <td>80</td>\n",
       "      <td>textile grade</td>\n",
       "      <td>300 kg</td>\n",
       "      <td>2021-01-05</td>\n",
       "      <td>day shift</td>\n",
       "      <td>2021-01-05</td>\n",
       "      <td>chemicals A and C</td>\n",
       "      <td>yes</td>\n",
       "    </tr>\n",
       "  </tbody>\n",
       "</table>\n",
       "</div>"
      ],
      "text/plain": [
       "   machine_id         machine_type  production_time      product_type  \\\n",
       "0           1  extruding machine A              120     textile grade   \n",
       "1           2  extruding machine B              100     textile grade   \n",
       "2           3  extruding machine C              110  industrial grade   \n",
       "3           4  extruding machine D               90     textile grade   \n",
       "4           5   printing machine A               80     textile grade   \n",
       "\n",
       "  production_volume production_date production_shift machine_maintenance  \\\n",
       "0            500 kg      2021-01-01        day shift          2021-01-01   \n",
       "1            450 kg      2021-01-02        day shift          2021-01-02   \n",
       "2            400 kg      2021-01-03        day shift          2021-01-03   \n",
       "3            350 kg      2021-01-04        day shift          2021-01-04   \n",
       "4            300 kg      2021-01-05        day shift          2021-01-05   \n",
       "\n",
       "  raw_material_usage quality_control  \n",
       "0  chemicals A and B             yes  \n",
       "1  chemicals A and C             yes  \n",
       "2  chemicals B and C             yes  \n",
       "3  chemicals A and B              no  \n",
       "4  chemicals A and C             yes  "
      ]
     },
     "execution_count": 2,
     "metadata": {},
     "output_type": "execute_result"
    }
   ],
   "source": [
    "# Load the data into a Pandas DataFrame\n",
    "df = pd.read_csv('production_data.txt')\n",
    "\n",
    "# inspect production data\n",
    "df.head()"
   ]
  },
  {
   "attachments": {},
   "cell_type": "markdown",
   "metadata": {},
   "source": [
    "The production data contains the following features:\n",
    "\n",
    "* `machine_id:` The unique identifier for each machine.\n",
    "* `machine_type:` The type of machine (e.g. \"cutting machine\", \"extruding machine\", etc.).\n",
    "* `production_time:` The amount of time it took to produce the nylon on this machine.\n",
    "* `product_type:` The type of nylon being produced (e.g. \"textile grade\", \"industrial grade\", etc.).\n",
    "* `production_volume:` The amount of nylon produced during this production run.\n",
    "* `production_date:` The date on which this production run took place.\n",
    "* `production_shift:` The shift during which this production run took place (e.g. \"day shift\", \"night shift\").\n",
    "* `machine_maintenance:` Information about when each machine was last serviced, as well as any maintenance issues that arose during production.\n",
    "* `raw_material_usage:` Information about the raw materials used in this production run, such as the type and quantity of chemicals used.\n",
    "* `quality_control:` Information about any quality control measures that were taken during production, such as testing for defects or measuring the dimensions of the finished products."
   ]
  },
  {
   "attachments": {},
   "cell_type": "markdown",
   "metadata": {},
   "source": [
    "## Calculate the total production time for each machine"
   ]
  },
  {
   "cell_type": "code",
   "execution_count": 3,
   "metadata": {},
   "outputs": [
    {
     "name": "stdout",
     "output_type": "stream",
     "text": [
      "machine_type\n",
      "cutting machine A       40\n",
      "cutting machine B       30\n",
      "cutting machine C       20\n",
      "cutting machine D       10\n",
      "extruding machine A    120\n",
      "extruding machine B    100\n",
      "extruding machine C    110\n",
      "extruding machine D     90\n",
      "printing machine A      80\n",
      "printing machine B      70\n",
      "printing machine C      60\n",
      "printing machine D      50\n",
      "punching machine A       5\n",
      "punching machine B      10\n",
      "punching machine C      15\n",
      "punching machine D      15\n",
      "recycling machine A      5\n",
      "recycling machine B     10\n",
      "recycling machine C     15\n",
      "recycling machine D     25\n",
      "Name: production_time, dtype: int64\n"
     ]
    }
   ],
   "source": [
    "# Calculate the total production time for each machine\n",
    "machine_production_time = df.groupby('machine_type')['production_time'].sum()\n",
    "\n",
    "print(machine_production_time)"
   ]
  },
  {
   "attachments": {},
   "cell_type": "markdown",
   "metadata": {},
   "source": [
    "## Find the machine with the highest production time"
   ]
  },
  {
   "cell_type": "code",
   "execution_count": 4,
   "metadata": {},
   "outputs": [
    {
     "name": "stdout",
     "output_type": "stream",
     "text": [
      "The most productive machine: extruding machine A\n"
     ]
    }
   ],
   "source": [
    "# Find the machine with the highest production time\n",
    "most_productive_machine = machine_production_time.idxmax()\n",
    "\n",
    "print(f\"The most productive machine: {most_productive_machine}\")"
   ]
  },
  {
   "attachments": {},
   "cell_type": "markdown",
   "metadata": {},
   "source": [
    "## Calculate the total production time for all extruding machine"
   ]
  },
  {
   "cell_type": "code",
   "execution_count": 5,
   "metadata": {},
   "outputs": [
    {
     "name": "stdout",
     "output_type": "stream",
     "text": [
      "machine_type\n",
      "extruding machine A    120\n",
      "extruding machine B    100\n",
      "extruding machine C    110\n",
      "extruding machine D     90\n",
      "Name: production_time, dtype: int64\n"
     ]
    }
   ],
   "source": [
    "# Calculate the total production time for all extruding machine\n",
    "extruding_machine = df[df['machine_type'].str.contains('extruding machine')]\n",
    "\n",
    "extruding_machine_production_time = extruding_machine.groupby('machine_type')['production_time'].sum()\n",
    "\n",
    "print(extruding_machine_production_time)"
   ]
  },
  {
   "attachments": {},
   "cell_type": "markdown",
   "metadata": {},
   "source": [
    "## Find the extruder machine with the highest production time"
   ]
  },
  {
   "cell_type": "code",
   "execution_count": 6,
   "metadata": {},
   "outputs": [
    {
     "name": "stdout",
     "output_type": "stream",
     "text": [
      "The most productive machine: extruding machine A\n"
     ]
    }
   ],
   "source": [
    "# Find the extruder machine with the highest production time\n",
    "most_productive_extruder_machine = extruding_machine_production_time.idxmax()\n",
    "\n",
    "print(f\"The most productive machine: {most_productive_extruder_machine}\")"
   ]
  },
  {
   "attachments": {},
   "cell_type": "markdown",
   "metadata": {},
   "source": [
    "## Calculate the average production time per extruding machine"
   ]
  },
  {
   "cell_type": "code",
   "execution_count": 7,
   "metadata": {},
   "outputs": [
    {
     "name": "stdout",
     "output_type": "stream",
     "text": [
      "The average production considering per extruding machine: 105.0\n"
     ]
    }
   ],
   "source": [
    "# Calculate the average production time per extruding machine\n",
    "extruder_average_production_time = extruding_machine['production_time'].mean()\n",
    "\n",
    "print(f\"The average production considering per extruding machine: {extruder_average_production_time}\")"
   ]
  },
  {
   "attachments": {},
   "cell_type": "markdown",
   "metadata": {},
   "source": [
    "## Find the extruder machines that are underperforming (production time below average)"
   ]
  },
  {
   "cell_type": "code",
   "execution_count": 8,
   "metadata": {},
   "outputs": [
    {
     "name": "stdout",
     "output_type": "stream",
     "text": [
      "Underperforming machines:  ['extruding machine B', 'extruding machine D']\n"
     ]
    }
   ],
   "source": [
    "# Find the extruder machines that are underperforming (production time below average)\n",
    "underperforming_extruder_machines = extruding_machine_production_time[extruding_machine_production_time < extruder_average_production_time].index\n",
    "\n",
    "print(\"Underperforming machines: \", list(underperforming_extruder_machines))"
   ]
  },
  {
   "attachments": {},
   "cell_type": "markdown",
   "metadata": {},
   "source": [
    "## Move some of the workload from the most productive machine to the underperforming machines"
   ]
  },
  {
   "cell_type": "code",
   "execution_count": 9,
   "metadata": {},
   "outputs": [],
   "source": [
    "# Move some of the workload from the most productive machine to the underperforming machines\n",
    "if len(list(underperforming_extruder_machines)) != 0:\n",
    "    df.loc[df['machine_type'] == most_productive_machine, 'machine_type'] = underperforming_extruder_machines[0]"
   ]
  },
  {
   "attachments": {},
   "cell_type": "markdown",
   "metadata": {},
   "source": [
    "## Save the updated schedule to a new CSV file"
   ]
  },
  {
   "cell_type": "code",
   "execution_count": 10,
   "metadata": {},
   "outputs": [],
   "source": [
    "# Save the updated schedule to a new CSV file\n",
    "df.to_csv('updated_production_schedule.csv', index=False)"
   ]
  },
  {
   "attachments": {},
   "cell_type": "markdown",
   "metadata": {},
   "source": [
    "This code does the following:\n",
    "\n",
    "1. Load the production data from a CSV file into a Pandas DataFrame.\n",
    "2. Calculate the total production time for each machine (e.g. \"cutting machine\", \"extruding machine\", etc.) by grouping the data by machine type and summing the production time for each group.\n",
    "3. Finds the machine type with the highest production time.\n",
    "4. Calculates the average production time per machine type.\n",
    "5. Finds the machine types that are underperforming (production time below average).\n",
    "6. Moves some of the workload from the most productive machine type to the underperforming machine types.\n",
    "7. Saves the updated schedule to a new CSV file."
   ]
  },
  {
   "attachments": {},
   "cell_type": "markdown",
   "metadata": {},
   "source": [
    "## Insights\n",
    "\n",
    "The fact that the *most productive* extruding machine is `'extruding machine A'` and the *underperforming* machines include `'extruding machine B'` and `'extruding machine D'` suggests that there may be some differences in performance between these machines. It could be that `'extruding machine A'` is more efficient or has better maintenance, leading to higher production output. On the other hand, `'extruding machine B'` and `'extruding machine D'` may be performing poorly due to issues such as a lower production capacity, longer production times, or more frequent breakdowns.\n",
    "\n",
    "To further understand the differences in performance between these machines, it might be helpful to gather more data on factors such as `production capacity`, `production time`, `maintenance frequency`, and `raw material usage`. This additional data could help identify specific areas where 'extruding machine A' is outperforming the other machines, and suggest potential improvements that could be made to increase the performance of 'extruding machine B' and 'extruding machine D'."
   ]
  }
 ],
 "metadata": {
  "kernelspec": {
   "display_name": "Python 3",
   "language": "python",
   "name": "python3"
  },
  "language_info": {
   "codemirror_mode": {
    "name": "ipython",
    "version": 3
   },
   "file_extension": ".py",
   "mimetype": "text/x-python",
   "name": "python",
   "nbconvert_exporter": "python",
   "pygments_lexer": "ipython3",
   "version": "3.10.6 (tags/v3.10.6:9c7b4bd, Aug  1 2022, 21:53:49) [MSC v.1932 64 bit (AMD64)]"
  },
  "orig_nbformat": 4,
  "vscode": {
   "interpreter": {
    "hash": "63963b3f4c440940f0b94a3100916033a226cb4f45979123153792d60aa56d6a"
   }
  }
 },
 "nbformat": 4,
 "nbformat_minor": 2
}
